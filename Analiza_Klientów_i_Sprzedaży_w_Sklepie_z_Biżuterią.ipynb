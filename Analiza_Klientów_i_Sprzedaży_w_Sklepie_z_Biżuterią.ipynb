{
  "nbformat": 4,
  "nbformat_minor": 0,
  "metadata": {
    "colab": {
      "provenance": [],
      "authorship_tag": "ABX9TyOu2BvTRFXLQj0Jpk6eE+CM",
      "include_colab_link": true
    },
    "kernelspec": {
      "name": "python3",
      "display_name": "Python 3"
    },
    "language_info": {
      "name": "python"
    }
  },
  "cells": [
    {
      "cell_type": "markdown",
      "metadata": {
        "id": "view-in-github",
        "colab_type": "text"
      },
      "source": [
        "<a href=\"https://colab.research.google.com/github/Matasnet/Analiza-Klient-w-i-Sprzeda-y-w-Sklepie-z-Bi-uteri-/blob/main/Analiza_Klient%C3%B3w_i_Sprzeda%C5%BCy_w_Sklepie_z_Bi%C5%BCuteri%C4%85.ipynb\" target=\"_parent\"><img src=\"https://colab.research.google.com/assets/colab-badge.svg\" alt=\"Open In Colab\"/></a>"
      ]
    },
    {
      "cell_type": "markdown",
      "source": [
        "Przedstawione dane są wygenerowane za pomocą biblioteki Faker. Pierwszym krokiem jest jej instalacja."
      ],
      "metadata": {
        "id": "z1VBDXipaX5F"
      }
    },
    {
      "cell_type": "code",
      "execution_count": 73,
      "metadata": {
        "colab": {
          "base_uri": "https://localhost:8080/"
        },
        "collapsed": true,
        "id": "6aIqF4zSOOUH",
        "outputId": "6ec37837-748d-422e-e53c-3f29d8b65b8b"
      },
      "outputs": [
        {
          "output_type": "stream",
          "name": "stderr",
          "text": [
            "/usr/local/lib/python3.10/dist-packages/ipykernel/ipkernel.py:283: DeprecationWarning: `should_run_async` will not call `transform_cell` automatically in the future. Please pass the result to `transformed_cell` argument and any exception that happen during thetransform in `preprocessing_exc_tuple` in IPython 7.17 and above.\n",
            "  and should_run_async(code)\n"
          ]
        },
        {
          "output_type": "stream",
          "name": "stdout",
          "text": [
            "Requirement already satisfied: Faker in /usr/local/lib/python3.10/dist-packages (30.3.0)\n",
            "Requirement already satisfied: python-dateutil>=2.4 in /usr/local/lib/python3.10/dist-packages (from Faker) (2.8.2)\n",
            "Requirement already satisfied: typing-extensions in /usr/local/lib/python3.10/dist-packages (from Faker) (4.12.2)\n",
            "Requirement already satisfied: six>=1.5 in /usr/local/lib/python3.10/dist-packages (from python-dateutil>=2.4->Faker) (1.16.0)\n"
          ]
        }
      ],
      "source": [
        "!pip install Faker"
      ]
    },
    {
      "cell_type": "code",
      "source": [
        "import pandas as pd\n",
        "import numpy as np\n",
        "from faker import Faker\n",
        "import random\n",
        "\n",
        "fake = Faker()"
      ],
      "metadata": {
        "colab": {
          "base_uri": "https://localhost:8080/"
        },
        "id": "p1_2cU4ZOReJ",
        "outputId": "b5b221b4-7b56-4cf0-fce4-18ef954a5a35"
      },
      "execution_count": 74,
      "outputs": [
        {
          "output_type": "stream",
          "name": "stderr",
          "text": [
            "/usr/local/lib/python3.10/dist-packages/ipykernel/ipkernel.py:283: DeprecationWarning: `should_run_async` will not call `transform_cell` automatically in the future. Please pass the result to `transformed_cell` argument and any exception that happen during thetransform in `preprocessing_exc_tuple` in IPython 7.17 and above.\n",
            "  and should_run_async(code)\n"
          ]
        }
      ]
    },
    {
      "cell_type": "markdown",
      "source": [
        "Ustawiamy paramatery takie jak ilość transakcji, kategorię produktów oraz województwa z których mogą być klienci."
      ],
      "metadata": {
        "id": "Sn5T86KBRVlw"
      }
    },
    {
      "cell_type": "code",
      "source": [
        "# Parametry\n",
        "num_transactions = 1000  # Liczba transakcji\n",
        "categories = ['Pierścionki', 'Naszyjniki', 'Bransoletki', 'Kolczyki', 'Zegarki']\n",
        "wojewodztwa = [\n",
        "    'Dolnośląskie', 'Kujawsko-pomorskie', 'Lubelskie', 'Lubuskie', 'Łódzkie',\n",
        "    'Małopolskie', 'Mazowieckie', 'Opolskie', 'Podkarpackie', 'Podlaskie',\n",
        "    'Pomorskie', 'Śląskie', 'Świętokrzyskie', 'Warmińsko-mazurskie',\n",
        "    'Wielkopolskie', 'Zachodniopomorskie'\n",
        "]"
      ],
      "metadata": {
        "colab": {
          "base_uri": "https://localhost:8080/"
        },
        "id": "JQrsL5ItOUzp",
        "outputId": "595513ad-f0dd-4e06-fed1-71e2f8d04847"
      },
      "execution_count": 75,
      "outputs": [
        {
          "output_type": "stream",
          "name": "stderr",
          "text": [
            "/usr/local/lib/python3.10/dist-packages/ipykernel/ipkernel.py:283: DeprecationWarning: `should_run_async` will not call `transform_cell` automatically in the future. Please pass the result to `transformed_cell` argument and any exception that happen during thetransform in `preprocessing_exc_tuple` in IPython 7.17 and above.\n",
            "  and should_run_async(code)\n"
          ]
        }
      ]
    },
    {
      "cell_type": "markdown",
      "source": [
        "Generujemy dane"
      ],
      "metadata": {
        "id": "AtTfTj2aRdBG"
      }
    },
    {
      "cell_type": "code",
      "source": [
        "# Generowanie danych\n",
        "data = {\n",
        "    'ID_Transakcji': np.arange(1, num_transactions+1),\n",
        "    'ID_Klienta': [fake.random_int(min=1, max=500) for _ in range(num_transactions)],\n",
        "    'Data': [fake.date_between(start_date='-2y', end_date='today') for _ in range(num_transactions)],\n",
        "    'Kategoria': [random.choice(categories) for _ in range(num_transactions)],\n",
        "    'Ilosc': [fake.random_int(min=1, max=5) for _ in range(num_transactions)],\n",
        "    'Cena_Jednostkowa': [fake.random_int(min=50, max=1000) for _ in range(num_transactions)],\n",
        "    'Wojewodztwo': [random.choice(wojewodztwa) for _ in range(num_transactions)],\n",
        "    'Kanal': [random.choice(['Web', 'Mobile App']) for _ in range(num_transactions)]\n",
        "}"
      ],
      "metadata": {
        "colab": {
          "base_uri": "https://localhost:8080/"
        },
        "id": "Ay6sJ8qqOWF7",
        "outputId": "c8f55afc-1879-4db1-f6d3-422c34b2d2c2"
      },
      "execution_count": 76,
      "outputs": [
        {
          "output_type": "stream",
          "name": "stderr",
          "text": [
            "/usr/local/lib/python3.10/dist-packages/ipykernel/ipkernel.py:283: DeprecationWarning: `should_run_async` will not call `transform_cell` automatically in the future. Please pass the result to `transformed_cell` argument and any exception that happen during thetransform in `preprocessing_exc_tuple` in IPython 7.17 and above.\n",
            "  and should_run_async(code)\n"
          ]
        }
      ]
    },
    {
      "cell_type": "code",
      "source": [
        "# Tworzenie DataFrame\n",
        "df = pd.DataFrame(data)\n",
        "\n",
        "# Obliczanie wartości transakcji\n",
        "df['Wartosc'] = df['Ilosc'] * df['Cena_Jednostkowa']\n",
        "\n",
        "# Ustawiamy aby tabela z danymi wyświetała się na szerokość\n",
        "pd.set_option('display.max_colwidth', None)\n",
        "pd.set_option('display.width', 1000)\n",
        "\n",
        "\n",
        "# Podgląd danych\n",
        "print(df.head())\n",
        "print('\\n')\n",
        "print(df.tail())"
      ],
      "metadata": {
        "colab": {
          "base_uri": "https://localhost:8080/"
        },
        "id": "WDIKjXTMOP0f",
        "outputId": "1c800561-6c86-4427-ac97-1b55d4e66d6f"
      },
      "execution_count": 98,
      "outputs": [
        {
          "output_type": "stream",
          "name": "stdout",
          "text": [
            "   ID_Transakcji  ID_Klienta        Data    Kategoria  Ilosc  Cena_Jednostkowa     Wojewodztwo       Kanal  Wartosc\n",
            "0              1         498  2024-03-09      Zegarki      4               449       Podlaskie         Web     1796\n",
            "1              2         367  2023-12-20     Kolczyki      4               893    Podkarpackie  Mobile App     3572\n",
            "2              3         374  2022-10-28  Pierścionki      3               624  Świętokrzyskie         Web     1872\n",
            "3              4         448  2024-08-21     Kolczyki      2               643       Lubelskie  Mobile App     1286\n",
            "4              5         481  2023-08-18  Pierścionki      5               567     Mazowieckie         Web     2835\n",
            "\n",
            "\n",
            "     ID_Transakcji  ID_Klienta        Data    Kategoria  Ilosc  Cena_Jednostkowa         Wojewodztwo       Kanal  Wartosc\n",
            "995            996         210  2022-10-16  Bransoletki      4               646  Zachodniopomorskie  Mobile App     2584\n",
            "996            997          35  2023-07-08      Zegarki      1               645           Podlaskie         Web      645\n",
            "997            998         185  2024-07-26     Kolczyki      4               509        Podkarpackie  Mobile App     2036\n",
            "998            999         230  2022-10-22  Bransoletki      2               678        Podkarpackie         Web     1356\n",
            "999           1000         444  2022-11-01  Pierścionki      4               219             Łódzkie         Web      876\n"
          ]
        },
        {
          "output_type": "stream",
          "name": "stderr",
          "text": [
            "/usr/local/lib/python3.10/dist-packages/ipykernel/ipkernel.py:283: DeprecationWarning: `should_run_async` will not call `transform_cell` automatically in the future. Please pass the result to `transformed_cell` argument and any exception that happen during thetransform in `preprocessing_exc_tuple` in IPython 7.17 and above.\n",
            "  and should_run_async(code)\n"
          ]
        }
      ]
    },
    {
      "cell_type": "code",
      "source": [
        "import matplotlib.pyplot as plt\n",
        "import seaborn as sns"
      ],
      "metadata": {
        "colab": {
          "base_uri": "https://localhost:8080/"
        },
        "id": "e6qHcHzqOqAR",
        "outputId": "0fab00ee-aed2-4353-b8ec-aa28ce8da767"
      },
      "execution_count": 78,
      "outputs": [
        {
          "output_type": "stream",
          "name": "stderr",
          "text": [
            "/usr/local/lib/python3.10/dist-packages/ipykernel/ipkernel.py:283: DeprecationWarning: `should_run_async` will not call `transform_cell` automatically in the future. Please pass the result to `transformed_cell` argument and any exception that happen during thetransform in `preprocessing_exc_tuple` in IPython 7.17 and above.\n",
            "  and should_run_async(code)\n"
          ]
        }
      ]
    },
    {
      "cell_type": "markdown",
      "source": [
        "#Wizualizacja danych"
      ],
      "metadata": {
        "id": "6spM4gE0R5O4"
      }
    },
    {
      "cell_type": "code",
      "source": [
        "# Rozkład transakcji w czasie\n",
        "df['Data'] = pd.to_datetime(df['Data'])\n",
        "df.set_index('Data').resample('M')['Wartosc'].sum().plot(kind='line', figsize=(10, 6))\n",
        "plt.title('Miesięczna sprzedaż')\n",
        "plt.ylabel('Wartość sprzedaży')\n",
        "plt.show()\n"
      ],
      "metadata": {
        "colab": {
          "base_uri": "https://localhost:8080/",
          "height": 669
        },
        "id": "JIkI_TtZOshA",
        "outputId": "7156eaed-e7bd-4f61-a597-5ad6d23ee475"
      },
      "execution_count": 79,
      "outputs": [
        {
          "output_type": "stream",
          "name": "stderr",
          "text": [
            "/usr/local/lib/python3.10/dist-packages/ipykernel/ipkernel.py:283: DeprecationWarning: `should_run_async` will not call `transform_cell` automatically in the future. Please pass the result to `transformed_cell` argument and any exception that happen during thetransform in `preprocessing_exc_tuple` in IPython 7.17 and above.\n",
            "  and should_run_async(code)\n",
            "<ipython-input-79-7d3d9883868c>:3: FutureWarning: 'M' is deprecated and will be removed in a future version, please use 'ME' instead.\n",
            "  df.set_index('Data').resample('M')['Wartosc'].sum().plot(kind='line', figsize=(10, 6))\n"
          ]
        },
        {
          "output_type": "display_data",
          "data": {
            "text/plain": [
              "<Figure size 1000x600 with 1 Axes>"
            ],
            "image/png": "[encoded data removed]"
          },
          "metadata": {}
        }
      ]
    },
    {
      "cell_type": "code",
      "source": [
        "# Popularność kategorii\n",
        "sns.countplot(data=df, x='Kategoria')\n",
        "plt.title('Popularność kategorii produktów')\n",
        "plt.show()"
      ],
      "metadata": {
        "colab": {
          "base_uri": "https://localhost:8080/",
          "height": 527
        },
        "id": "GPgVUQpcOtra",
        "outputId": "f3009bb2-8e19-48fa-ead9-9f26fd5510fb"
      },
      "execution_count": 80,
      "outputs": [
        {
          "output_type": "stream",
          "name": "stderr",
          "text": [
            "/usr/local/lib/python3.10/dist-packages/ipykernel/ipkernel.py:283: DeprecationWarning: `should_run_async` will not call `transform_cell` automatically in the future. Please pass the result to `transformed_cell` argument and any exception that happen during thetransform in `preprocessing_exc_tuple` in IPython 7.17 and above.\n",
            "  and should_run_async(code)\n"
          ]
        },
        {
          "output_type": "display_data",
          "data": {
            "text/plain": [
              "<Figure size 640x480 with 1 Axes>"
            ],
            "image/png": "[encoded data removed]"
          },
          "metadata": {}
        }
      ]
    },
    {
      "cell_type": "markdown",
      "source": [
        "#Przygotowani danych do stworzenia modelu statystycznego klienta"
      ],
      "metadata": {
        "id": "LP13t4KJRpLF"
      }
    },
    {
      "cell_type": "code",
      "source": [
        "# Średnia liczba transakcji na klienta\n",
        "avg_transactions_per_customer = df.groupby('ID_Klienta')['ID_Transakcji'].count().mean()\n",
        "print(f\"Średnia liczba transakcji na klienta: {avg_transactions_per_customer:.2f}\")\n"
      ],
      "metadata": {
        "colab": {
          "base_uri": "https://localhost:8080/"
        },
        "id": "_KG3X6ADOp5J",
        "outputId": "8f316b27-a2b9-40b8-ff37-b968abd75d4c"
      },
      "execution_count": 81,
      "outputs": [
        {
          "output_type": "stream",
          "name": "stdout",
          "text": [
            "Średnia liczba transakcji na klienta: 2.32\n"
          ]
        },
        {
          "output_type": "stream",
          "name": "stderr",
          "text": [
            "/usr/local/lib/python3.10/dist-packages/ipykernel/ipkernel.py:283: DeprecationWarning: `should_run_async` will not call `transform_cell` automatically in the future. Please pass the result to `transformed_cell` argument and any exception that happen during thetransform in `preprocessing_exc_tuple` in IPython 7.17 and above.\n",
            "  and should_run_async(code)\n"
          ]
        }
      ]
    },
    {
      "cell_type": "code",
      "source": [
        "# Średnia wartość koszyka (na transakcję)\n",
        "avg_basket_value = df['Wartosc'].mean()\n",
        "print(f\"Średnia wartość koszyka: {avg_basket_value:.2f} PLN\")\n"
      ],
      "metadata": {
        "colab": {
          "base_uri": "https://localhost:8080/"
        },
        "id": "Bm8ryjSLQmgq",
        "outputId": "8824cce9-7c92-41dc-fcf3-fe345349926c"
      },
      "execution_count": 82,
      "outputs": [
        {
          "output_type": "stream",
          "name": "stdout",
          "text": [
            "Średnia wartość koszyka: 1612.65 PLN\n"
          ]
        },
        {
          "output_type": "stream",
          "name": "stderr",
          "text": [
            "/usr/local/lib/python3.10/dist-packages/ipykernel/ipkernel.py:283: DeprecationWarning: `should_run_async` will not call `transform_cell` automatically in the future. Please pass the result to `transformed_cell` argument and any exception that happen during thetransform in `preprocessing_exc_tuple` in IPython 7.17 and above.\n",
            "  and should_run_async(code)\n"
          ]
        }
      ]
    },
    {
      "cell_type": "code",
      "source": [
        "# Najczęściej kupowane produkty\n",
        "most_popular_products = df['Kategoria'].value_counts().idxmax()\n",
        "print(f\"Najczęściej kupowana kategoria produktów: {most_popular_products}\")\n"
      ],
      "metadata": {
        "colab": {
          "base_uri": "https://localhost:8080/"
        },
        "id": "77TTTG5EQoq3",
        "outputId": "fdf11aaa-4a8e-4d6e-a88d-cc49877f93fe"
      },
      "execution_count": 83,
      "outputs": [
        {
          "output_type": "stream",
          "name": "stdout",
          "text": [
            "Najczęściej kupowana kategoria produktów: Naszyjniki\n"
          ]
        },
        {
          "output_type": "stream",
          "name": "stderr",
          "text": [
            "/usr/local/lib/python3.10/dist-packages/ipykernel/ipkernel.py:283: DeprecationWarning: `should_run_async` will not call `transform_cell` automatically in the future. Please pass the result to `transformed_cell` argument and any exception that happen during thetransform in `preprocessing_exc_tuple` in IPython 7.17 and above.\n",
            "  and should_run_async(code)\n"
          ]
        }
      ]
    },
    {
      "cell_type": "code",
      "source": [
        "# Preferencje zakupowe (kanały)\n",
        "channel_preference = df['Kanal'].value_counts(normalize=True) * 100\n",
        "print(\"Preferencje zakupowe (kanały):\")\n",
        "print(channel_preference)\n"
      ],
      "metadata": {
        "colab": {
          "base_uri": "https://localhost:8080/"
        },
        "id": "MC8w_gSsQqFj",
        "outputId": "94309da1-62cd-4a2c-84f4-dc735ba0400e"
      },
      "execution_count": 84,
      "outputs": [
        {
          "output_type": "stream",
          "name": "stdout",
          "text": [
            "Preferencje zakupowe (kanały):\n",
            "Kanal\n",
            "Web           51.9\n",
            "Mobile App    48.1\n",
            "Name: proportion, dtype: float64\n"
          ]
        },
        {
          "output_type": "stream",
          "name": "stderr",
          "text": [
            "/usr/local/lib/python3.10/dist-packages/ipykernel/ipkernel.py:283: DeprecationWarning: `should_run_async` will not call `transform_cell` automatically in the future. Please pass the result to `transformed_cell` argument and any exception that happen during thetransform in `preprocessing_exc_tuple` in IPython 7.17 and above.\n",
            "  and should_run_async(code)\n"
          ]
        }
      ]
    },
    {
      "cell_type": "code",
      "source": [
        "# Rozkład klientów według województw\n",
        "customer_distribution_by_region = df['Wojewodztwo'].value_counts()\n",
        "print(\"Rozkład klientów według województw:\")\n",
        "print(customer_distribution_by_region)\n"
      ],
      "metadata": {
        "colab": {
          "base_uri": "https://localhost:8080/"
        },
        "id": "cWh29TB7QsM8",
        "outputId": "746e9b64-4480-42ae-f462-97b268222916"
      },
      "execution_count": 85,
      "outputs": [
        {
          "output_type": "stream",
          "name": "stdout",
          "text": [
            "Rozkład klientów według województw:\n",
            "Wojewodztwo\n",
            "Podlaskie              76\n",
            "Lubelskie              72\n",
            "Łódzkie                71\n",
            "Pomorskie              70\n",
            "Zachodniopomorskie     67\n",
            "Dolnośląskie           63\n",
            "Opolskie               63\n",
            "Małopolskie            62\n",
            "Śląskie                61\n",
            "Podkarpackie           59\n",
            "Lubuskie               59\n",
            "Świętokrzyskie         58\n",
            "Warmińsko-mazurskie    57\n",
            "Wielkopolskie          56\n",
            "Mazowieckie            54\n",
            "Kujawsko-pomorskie     52\n",
            "Name: count, dtype: int64\n"
          ]
        },
        {
          "output_type": "stream",
          "name": "stderr",
          "text": [
            "/usr/local/lib/python3.10/dist-packages/ipykernel/ipkernel.py:283: DeprecationWarning: `should_run_async` will not call `transform_cell` automatically in the future. Please pass the result to `transformed_cell` argument and any exception that happen during thetransform in `preprocessing_exc_tuple` in IPython 7.17 and above.\n",
            "  and should_run_async(code)\n"
          ]
        }
      ]
    },
    {
      "cell_type": "markdown",
      "source": [
        "##Model statystycznego klienta"
      ],
      "metadata": {
        "id": "h417zxcARwln"
      }
    },
    {
      "cell_type": "code",
      "source": [
        "# Tworzenie profilu statystycznego klienta\n",
        "print(\"Profil statystycznego klienta:\")\n",
        "print(f\"- Średnia liczba transakcji na klienta: {avg_transactions_per_customer:.2f}\")\n",
        "print(f\"- Średnia wartość koszyka: {avg_basket_value:.2f} PLN\")\n",
        "print(f\"- Najczęściej kupowane produkty: {most_popular_products} \\n\")\n",
        "print(\"Preferencje zakupowe (kanały):\")\n",
        "print(channel_preference)\n",
        "print(\"\\nRozkład klientów według województw:\")\n",
        "print(customer_distribution_by_region)\n"
      ],
      "metadata": {
        "colab": {
          "base_uri": "https://localhost:8080/"
        },
        "id": "PemnYrWsQvAl",
        "outputId": "002ac193-ba18-4bf1-d36b-b0e5f3fac343"
      },
      "execution_count": 86,
      "outputs": [
        {
          "output_type": "stream",
          "name": "stdout",
          "text": [
            "Profil statystycznego klienta:\n",
            "- Średnia liczba transakcji na klienta: 2.32\n",
            "- Średnia wartość koszyka: 1612.65 PLN\n",
            "- Najczęściej kupowane produkty: Naszyjniki \n",
            "\n",
            "Preferencje zakupowe (kanały):\n",
            "Kanal\n",
            "Web           51.9\n",
            "Mobile App    48.1\n",
            "Name: proportion, dtype: float64\n",
            "\n",
            "Rozkład klientów według województw:\n",
            "Wojewodztwo\n",
            "Podlaskie              76\n",
            "Lubelskie              72\n",
            "Łódzkie                71\n",
            "Pomorskie              70\n",
            "Zachodniopomorskie     67\n",
            "Dolnośląskie           63\n",
            "Opolskie               63\n",
            "Małopolskie            62\n",
            "Śląskie                61\n",
            "Podkarpackie           59\n",
            "Lubuskie               59\n",
            "Świętokrzyskie         58\n",
            "Warmińsko-mazurskie    57\n",
            "Wielkopolskie          56\n",
            "Mazowieckie            54\n",
            "Kujawsko-pomorskie     52\n",
            "Name: count, dtype: int64\n"
          ]
        },
        {
          "output_type": "stream",
          "name": "stderr",
          "text": [
            "/usr/local/lib/python3.10/dist-packages/ipykernel/ipkernel.py:283: DeprecationWarning: `should_run_async` will not call `transform_cell` automatically in the future. Please pass the result to `transformed_cell` argument and any exception that happen during thetransform in `preprocessing_exc_tuple` in IPython 7.17 and above.\n",
            "  and should_run_async(code)\n"
          ]
        }
      ]
    },
    {
      "cell_type": "markdown",
      "source": [
        "Sprawdzanie jacy klienci robili więcej niż 1 tranzację"
      ],
      "metadata": {
        "id": "LwXF-O76X434"
      }
    },
    {
      "cell_type": "code",
      "source": [
        "df['ID_Klienta'].value_counts()"
      ],
      "metadata": {
        "colab": {
          "base_uri": "https://localhost:8080/",
          "height": 544
        },
        "id": "0IYoisPrQzG1",
        "outputId": "5dda9192-f8a7-4e83-9846-9a50e75f082e"
      },
      "execution_count": 87,
      "outputs": [
        {
          "output_type": "stream",
          "name": "stderr",
          "text": [
            "/usr/local/lib/python3.10/dist-packages/ipykernel/ipkernel.py:283: DeprecationWarning: `should_run_async` will not call `transform_cell` automatically in the future. Please pass the result to `transformed_cell` argument and any exception that happen during thetransform in `preprocessing_exc_tuple` in IPython 7.17 and above.\n",
            "  and should_run_async(code)\n"
          ]
        },
        {
          "output_type": "execute_result",
          "data": {
            "text/plain": [
              "ID_Klienta\n",
              "388    7\n",
              "270    7\n",
              "176    7\n",
              "444    6\n",
              "251    6\n",
              "      ..\n",
              "74     1\n",
              "300    1\n",
              "337    1\n",
              "422    1\n",
              "35     1\n",
              "Name: count, Length: 431, dtype: int64"
            ],
            "text/html": [
              "<div>\n",
              "<style scoped>\n",
              "    .dataframe tbody tr th:only-of-type {\n",
              "        vertical-align: middle;\n",
              "    }\n",
              "\n",
              "    .dataframe tbody tr th {\n",
              "        vertical-align: top;\n",
              "    }\n",
              "\n",
              "    .dataframe thead th {\n",
              "        text-align: right;\n",
              "    }\n",
              "</style>\n",
              "<table border=\"1\" class=\"dataframe\">\n",
              "  <thead>\n",
              "    <tr style=\"text-align: right;\">\n",
              "      <th></th>\n",
              "      <th>count</th>\n",
              "    </tr>\n",
              "    <tr>\n",
              "      <th>ID_Klienta</th>\n",
              "      <th></th>\n",
              "    </tr>\n",
              "  </thead>\n",
              "  <tbody>\n",
              "    <tr>\n",
              "      <th>388</th>\n",
              "      <td>7</td>\n",
              "    </tr>\n",
              "    <tr>\n",
              "      <th>270</th>\n",
              "      <td>7</td>\n",
              "    </tr>\n",
              "    <tr>\n",
              "      <th>176</th>\n",
              "      <td>7</td>\n",
              "    </tr>\n",
              "    <tr>\n",
              "      <th>444</th>\n",
              "      <td>6</td>\n",
              "    </tr>\n",
              "    <tr>\n",
              "      <th>251</th>\n",
              "      <td>6</td>\n",
              "    </tr>\n",
              "    <tr>\n",
              "      <th>...</th>\n",
              "      <td>...</td>\n",
              "    </tr>\n",
              "    <tr>\n",
              "      <th>74</th>\n",
              "      <td>1</td>\n",
              "    </tr>\n",
              "    <tr>\n",
              "      <th>300</th>\n",
              "      <td>1</td>\n",
              "    </tr>\n",
              "    <tr>\n",
              "      <th>337</th>\n",
              "      <td>1</td>\n",
              "    </tr>\n",
              "    <tr>\n",
              "      <th>422</th>\n",
              "      <td>1</td>\n",
              "    </tr>\n",
              "    <tr>\n",
              "      <th>35</th>\n",
              "      <td>1</td>\n",
              "    </tr>\n",
              "  </tbody>\n",
              "</table>\n",
              "<p>431 rows × 1 columns</p>\n",
              "</div><br><label><b>dtype:</b> int64</label>"
            ]
          },
          "metadata": {},
          "execution_count": 87
        }
      ]
    },
    {
      "cell_type": "markdown",
      "source": [
        "Przykładowe sprawdzenie klienta o ID 388"
      ],
      "metadata": {
        "id": "wROdUS23X3-K"
      }
    },
    {
      "cell_type": "code",
      "source": [
        "df[df['ID_Klienta'] == 388]"
      ],
      "metadata": {
        "colab": {
          "base_uri": "https://localhost:8080/",
          "height": 323
        },
        "id": "N3lHZR9nSJiD",
        "outputId": "ffe1c445-fa48-498e-8b59-df50253dda1d"
      },
      "execution_count": 96,
      "outputs": [
        {
          "output_type": "stream",
          "name": "stderr",
          "text": [
            "/usr/local/lib/python3.10/dist-packages/ipykernel/ipkernel.py:283: DeprecationWarning: `should_run_async` will not call `transform_cell` automatically in the future. Please pass the result to `transformed_cell` argument and any exception that happen during thetransform in `preprocessing_exc_tuple` in IPython 7.17 and above.\n",
            "  and should_run_async(code)\n"
          ]
        },
        {
          "output_type": "execute_result",
          "data": {
            "text/plain": [
              "     ID_Transakcji  ID_Klienta        Data    Kategoria  Ilosc  \\\n",
              "178            179         388  2024-07-27   Naszyjniki      4   \n",
              "332            333         388  2024-02-06  Pierścionki      1   \n",
              "357            358         388  2024-05-14  Bransoletki      2   \n",
              "371            372         388  2024-01-13      Zegarki      2   \n",
              "403            404         388  2022-10-13     Kolczyki      5   \n",
              "779            780         388  2024-09-13  Bransoletki      5   \n",
              "834            835         388  2023-10-17  Pierścionki      3   \n",
              "\n",
              "     Cena_Jednostkowa          Wojewodztwo       Kanal  Wartosc  \n",
              "178               822          Mazowieckie  Mobile App     3288  \n",
              "332               745         Podkarpackie         Web      745  \n",
              "357               145              Łódzkie         Web      290  \n",
              "371               433  Warmińsko-mazurskie  Mobile App      866  \n",
              "403               539          Mazowieckie         Web     2695  \n",
              "779               984              Śląskie         Web     4920  \n",
              "834               621   Zachodniopomorskie  Mobile App     1863  "
            ],
            "text/html": [
              "\n",
              "  <div id=\"df-865577bf-4624-487c-86e7-cbac2dc35632\" class=\"colab-df-container\">\n",
              "    <div>\n",
              "<style scoped>\n",
              "    .dataframe tbody tr th:only-of-type {\n",
              "        vertical-align: middle;\n",
              "    }\n",
              "\n",
              "    .dataframe tbody tr th {\n",
              "        vertical-align: top;\n",
              "    }\n",
              "\n",
              "    .dataframe thead th {\n",
              "        text-align: right;\n",
              "    }\n",
              "</style>\n",
              "<table border=\"1\" class=\"dataframe\">\n",
              "  <thead>\n",
              "    <tr style=\"text-align: right;\">\n",
              "      <th></th>\n",
              "      <th>ID_Transakcji</th>\n",
              "      <th>ID_Klienta</th>\n",
              "      <th>Data</th>\n",
              "      <th>Kategoria</th>\n",
              "      <th>Ilosc</th>\n",
              "      <th>Cena_Jednostkowa</th>\n",
              "      <th>Wojewodztwo</th>\n",
              "      <th>Kanal</th>\n",
              "      <th>Wartosc</th>\n",
              "    </tr>\n",
              "  </thead>\n",
              "  <tbody>\n",
              "    <tr>\n",
              "      <th>178</th>\n",
              "      <td>179</td>\n",
              "      <td>388</td>\n",
              "      <td>2024-07-27</td>\n",
              "      <td>Naszyjniki</td>\n",
              "      <td>4</td>\n",
              "      <td>822</td>\n",
              "      <td>Mazowieckie</td>\n",
              "      <td>Mobile App</td>\n",
              "      <td>3288</td>\n",
              "    </tr>\n",
              "    <tr>\n",
              "      <th>332</th>\n",
              "      <td>333</td>\n",
              "      <td>388</td>\n",
              "      <td>2024-02-06</td>\n",
              "      <td>Pierścionki</td>\n",
              "      <td>1</td>\n",
              "      <td>745</td>\n",
              "      <td>Podkarpackie</td>\n",
              "      <td>Web</td>\n",
              "      <td>745</td>\n",
              "    </tr>\n",
              "    <tr>\n",
              "      <th>357</th>\n",
              "      <td>358</td>\n",
              "      <td>388</td>\n",
              "      <td>2024-05-14</td>\n",
              "      <td>Bransoletki</td>\n",
              "      <td>2</td>\n",
              "      <td>145</td>\n",
              "      <td>Łódzkie</td>\n",
              "      <td>Web</td>\n",
              "      <td>290</td>\n",
              "    </tr>\n",
              "    <tr>\n",
              "      <th>371</th>\n",
              "      <td>372</td>\n",
              "      <td>388</td>\n",
              "      <td>2024-01-13</td>\n",
              "      <td>Zegarki</td>\n",
              "      <td>2</td>\n",
              "      <td>433</td>\n",
              "      <td>Warmińsko-mazurskie</td>\n",
              "      <td>Mobile App</td>\n",
              "      <td>866</td>\n",
              "    </tr>\n",
              "    <tr>\n",
              "      <th>403</th>\n",
              "      <td>404</td>\n",
              "      <td>388</td>\n",
              "      <td>2022-10-13</td>\n",
              "      <td>Kolczyki</td>\n",
              "      <td>5</td>\n",
              "      <td>539</td>\n",
              "      <td>Mazowieckie</td>\n",
              "      <td>Web</td>\n",
              "      <td>2695</td>\n",
              "    </tr>\n",
              "    <tr>\n",
              "      <th>779</th>\n",
              "      <td>780</td>\n",
              "      <td>388</td>\n",
              "      <td>2024-09-13</td>\n",
              "      <td>Bransoletki</td>\n",
              "      <td>5</td>\n",
              "      <td>984</td>\n",
              "      <td>Śląskie</td>\n",
              "      <td>Web</td>\n",
              "      <td>4920</td>\n",
              "    </tr>\n",
              "    <tr>\n",
              "      <th>834</th>\n",
              "      <td>835</td>\n",
              "      <td>388</td>\n",
              "      <td>2023-10-17</td>\n",
              "      <td>Pierścionki</td>\n",
              "      <td>3</td>\n",
              "      <td>621</td>\n",
              "      <td>Zachodniopomorskie</td>\n",
              "      <td>Mobile App</td>\n",
              "      <td>1863</td>\n",
              "    </tr>\n",
              "  </tbody>\n",
              "</table>\n",
              "</div>\n",
              "    <div class=\"colab-df-buttons\">\n",
              "\n",
              "  <div class=\"colab-df-container\">\n",
              "    <button class=\"colab-df-convert\" onclick=\"convertToInteractive('df-865577bf-4624-487c-86e7-cbac2dc35632')\"\n",
              "            title=\"Convert this dataframe to an interactive table.\"\n",
              "            style=\"display:none;\">\n",
              "\n",
              "  <svg xmlns=\"http://www.w3.org/2000/svg\" height=\"24px\" viewBox=\"0 -960 960 960\">\n",
              "    <path d=\"M120-120v-720h720v720H120Zm60-500h600v-160H180v160Zm220 220h160v-160H400v160Zm0 220h160v-160H400v160ZM180-400h160v-160H180v160Zm440 0h160v-160H620v160ZM180-180h160v-160H180v160Zm440 0h160v-160H620v160Z\"/>\n",
              "  </svg>\n",
              "    </button>\n",
              "\n",
              "  <style>\n",
              "    .colab-df-container {\n",
              "      display:flex;\n",
              "      gap: 12px;\n",
              "    }\n",
              "\n",
              "    .colab-df-convert {\n",
              "      background-color: #E8F0FE;\n",
              "      border: none;\n",
              "      border-radius: 50%;\n",
              "      cursor: pointer;\n",
              "      display: none;\n",
              "      fill: #1967D2;\n",
              "      height: 32px;\n",
              "      padding: 0 0 0 0;\n",
              "      width: 32px;\n",
              "    }\n",
              "\n",
              "    .colab-df-convert:hover {\n",
              "      background-color: #E2EBFA;\n",
              "      box-shadow: 0px 1px 2px rgba(60, 64, 67, 0.3), 0px 1px 3px 1px rgba(60, 64, 67, 0.15);\n",
              "      fill: #174EA6;\n",
              "    }\n",
              "\n",
              "    .colab-df-buttons div {\n",
              "      margin-bottom: 4px;\n",
              "    }\n",
              "\n",
              "    [theme=dark] .colab-df-convert {\n",
              "      background-color: #3B4455;\n",
              "      fill: #D2E3FC;\n",
              "    }\n",
              "\n",
              "    [theme=dark] .colab-df-convert:hover {\n",
              "      background-color: #434B5C;\n",
              "      box-shadow: 0px 1px 3px 1px rgba(0, 0, 0, 0.15);\n",
              "      filter: drop-shadow(0px 1px 2px rgba(0, 0, 0, 0.3));\n",
              "      fill: #FFFFFF;\n",
              "    }\n",
              "  </style>\n",
              "\n",
              "    <script>\n",
              "      const buttonEl =\n",
              "        document.querySelector('#df-865577bf-4624-487c-86e7-cbac2dc35632 button.colab-df-convert');\n",
              "      buttonEl.style.display =\n",
              "        google.colab.kernel.accessAllowed ? 'block' : 'none';\n",
              "\n",
              "      async function convertToInteractive(key) {\n",
              "        const element = document.querySelector('#df-865577bf-4624-487c-86e7-cbac2dc35632');\n",
              "        const dataTable =\n",
              "          await google.colab.kernel.invokeFunction('convertToInteractive',\n",
              "                                                    [key], {});\n",
              "        if (!dataTable) return;\n",
              "\n",
              "        const docLinkHtml = 'Like what you see? Visit the ' +\n",
              "          '<a target=\"_blank\" href=https://colab.research.google.com/notebooks/data_table.ipynb>data table notebook</a>'\n",
              "          + ' to learn more about interactive tables.';\n",
              "        element.innerHTML = '';\n",
              "        dataTable['output_type'] = 'display_data';\n",
              "        await google.colab.output.renderOutput(dataTable, element);\n",
              "        const docLink = document.createElement('div');\n",
              "        docLink.innerHTML = docLinkHtml;\n",
              "        element.appendChild(docLink);\n",
              "      }\n",
              "    </script>\n",
              "  </div>\n",
              "\n",
              "\n",
              "<div id=\"df-5c8dace7-36e1-4d6e-9064-4f170463857a\">\n",
              "  <button class=\"colab-df-quickchart\" onclick=\"quickchart('df-5c8dace7-36e1-4d6e-9064-4f170463857a')\"\n",
              "            title=\"Suggest charts\"\n",
              "            style=\"display:none;\">\n",
              "\n",
              "<svg xmlns=\"http://www.w3.org/2000/svg\" height=\"24px\"viewBox=\"0 0 24 24\"\n",
              "     width=\"24px\">\n",
              "    <g>\n",
              "        <path d=\"M19 3H5c-1.1 0-2 .9-2 2v14c0 1.1.9 2 2 2h14c1.1 0 2-.9 2-2V5c0-1.1-.9-2-2-2zM9 17H7v-7h2v7zm4 0h-2V7h2v10zm4 0h-2v-4h2v4z\"/>\n",
              "    </g>\n",
              "</svg>\n",
              "  </button>\n",
              "\n",
              "<style>\n",
              "  .colab-df-quickchart {\n",
              "      --bg-color: #E8F0FE;\n",
              "      --fill-color: #1967D2;\n",
              "      --hover-bg-color: #E2EBFA;\n",
              "      --hover-fill-color: #174EA6;\n",
              "      --disabled-fill-color: #AAA;\n",
              "      --disabled-bg-color: #DDD;\n",
              "  }\n",
              "\n",
              "  [theme=dark] .colab-df-quickchart {\n",
              "      --bg-color: #3B4455;\n",
              "      --fill-color: #D2E3FC;\n",
              "      --hover-bg-color: #434B5C;\n",
              "      --hover-fill-color: #FFFFFF;\n",
              "      --disabled-bg-color: #3B4455;\n",
              "      --disabled-fill-color: #666;\n",
              "  }\n",
              "\n",
              "  .colab-df-quickchart {\n",
              "    background-color: var(--bg-color);\n",
              "    border: none;\n",
              "    border-radius: 50%;\n",
              "    cursor: pointer;\n",
              "    display: none;\n",
              "    fill: var(--fill-color);\n",
              "    height: 32px;\n",
              "    padding: 0;\n",
              "    width: 32px;\n",
              "  }\n",
              "\n",
              "  .colab-df-quickchart:hover {\n",
              "    background-color: var(--hover-bg-color);\n",
              "    box-shadow: 0 1px 2px rgba(60, 64, 67, 0.3), 0 1px 3px 1px rgba(60, 64, 67, 0.15);\n",
              "    fill: var(--button-hover-fill-color);\n",
              "  }\n",
              "\n",
              "  .colab-df-quickchart-complete:disabled,\n",
              "  .colab-df-quickchart-complete:disabled:hover {\n",
              "    background-color: var(--disabled-bg-color);\n",
              "    fill: var(--disabled-fill-color);\n",
              "    box-shadow: none;\n",
              "  }\n",
              "\n",
              "  .colab-df-spinner {\n",
              "    border: 2px solid var(--fill-color);\n",
              "    border-color: transparent;\n",
              "    border-bottom-color: var(--fill-color);\n",
              "    animation:\n",
              "      spin 1s steps(1) infinite;\n",
              "  }\n",
              "\n",
              "  @keyframes spin {\n",
              "    0% {\n",
              "      border-color: transparent;\n",
              "      border-bottom-color: var(--fill-color);\n",
              "      border-left-color: var(--fill-color);\n",
              "    }\n",
              "    20% {\n",
              "      border-color: transparent;\n",
              "      border-left-color: var(--fill-color);\n",
              "      border-top-color: var(--fill-color);\n",
              "    }\n",
              "    30% {\n",
              "      border-color: transparent;\n",
              "      border-left-color: var(--fill-color);\n",
              "      border-top-color: var(--fill-color);\n",
              "      border-right-color: var(--fill-color);\n",
              "    }\n",
              "    40% {\n",
              "      border-color: transparent;\n",
              "      border-right-color: var(--fill-color);\n",
              "      border-top-color: var(--fill-color);\n",
              "    }\n",
              "    60% {\n",
              "      border-color: transparent;\n",
              "      border-right-color: var(--fill-color);\n",
              "    }\n",
              "    80% {\n",
              "      border-color: transparent;\n",
              "      border-right-color: var(--fill-color);\n",
              "      border-bottom-color: var(--fill-color);\n",
              "    }\n",
              "    90% {\n",
              "      border-color: transparent;\n",
              "      border-bottom-color: var(--fill-color);\n",
              "    }\n",
              "  }\n",
              "</style>\n",
              "\n",
              "  <script>\n",
              "    async function quickchart(key) {\n",
              "      const quickchartButtonEl =\n",
              "        document.querySelector('#' + key + ' button');\n",
              "      quickchartButtonEl.disabled = true;  // To prevent multiple clicks.\n",
              "      quickchartButtonEl.classList.add('colab-df-spinner');\n",
              "      try {\n",
              "        const charts = await google.colab.kernel.invokeFunction(\n",
              "            'suggestCharts', [key], {});\n",
              "      } catch (error) {\n",
              "        console.error('Error during call to suggestCharts:', error);\n",
              "      }\n",
              "      quickchartButtonEl.classList.remove('colab-df-spinner');\n",
              "      quickchartButtonEl.classList.add('colab-df-quickchart-complete');\n",
              "    }\n",
              "    (() => {\n",
              "      let quickchartButtonEl =\n",
              "        document.querySelector('#df-5c8dace7-36e1-4d6e-9064-4f170463857a button');\n",
              "      quickchartButtonEl.style.display =\n",
              "        google.colab.kernel.accessAllowed ? 'block' : 'none';\n",
              "    })();\n",
              "  </script>\n",
              "</div>\n",
              "\n",
              "    </div>\n",
              "  </div>\n"
            ],
            "application/vnd.google.colaboratory.intrinsic+json": {
              "type": "dataframe",
              "repr_error": "0"
            }
          },
          "metadata": {},
          "execution_count": 96
        }
      ]
    }
  ]
}